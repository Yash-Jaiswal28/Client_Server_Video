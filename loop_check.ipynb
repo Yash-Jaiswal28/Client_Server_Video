{
 "cells": [
  {
   "cell_type": "code",
   "execution_count": 1,
   "metadata": {},
   "outputs": [],
   "source": [
    "import cv2\n",
    "import os\n",
    "import matplotlib.pyplot as plt\n",
    "import numpy as np\n",
    "import time\n",
    "import csv\n"
   ]
  },
  {
   "cell_type": "code",
   "execution_count": 2,
   "metadata": {},
   "outputs": [],
   "source": [
    "folder_path = r'D:\\Yash-python\\python\\Tasks\\NGSpurs\\Images'\n",
    "\n",
    "file_list = os.listdir(folder_path)"
   ]
  },
  {
   "cell_type": "code",
   "execution_count": 3,
   "metadata": {},
   "outputs": [],
   "source": [
    "kernel_size=5\n",
    "std_dev=1.5"
   ]
  },
  {
   "cell_type": "code",
   "execution_count": 4,
   "metadata": {},
   "outputs": [],
   "source": [
    "# Define the headings\n",
    "headings = [\n",
    "    \"Distance in Pixels\",\n",
    "    \"Broken\",\n",
    "    \"Code_Duration\"\n",
    "]\n"
   ]
  },
  {
   "cell_type": "code",
   "execution_count": 5,
   "metadata": {},
   "outputs": [
    {
     "name": "stdout",
     "output_type": "stream",
     "text": [
      "147187.55316734314 ms\n",
      "CSV file 'output.csv' created successfully.\n"
     ]
    }
   ],
   "source": [
    "with open(\"output.csv\", \"w\", newline=\"\") as csvfile:\n",
    "    writer = csv.writer(csvfile)\n",
    "    writer.writerow(headings)\n",
    "    start = time.time()\n",
    "    # Loop through each file in the folder\n",
    "    for file in file_list:\n",
    "        start_img = time.time()\n",
    "        file_path = os.path.join(folder_path, file)\n",
    "        \n",
    "        # Step 1: Read and process the image\n",
    "        img = cv2.imread(file_path)\n",
    "        img = cv2.resize(img, (500, 500))\n",
    "        \n",
    "        # Step 2: Create Gaussian filter\n",
    "        kernel = cv2.getGaussianKernel(kernel_size, std_dev)\n",
    "        kernel = kernel * kernel.T\n",
    "        fil_img = cv2.filter2D(img, -1, kernel)\n",
    "        \n",
    "        # Step 3: Convert to grayscale and detect edges\n",
    "        gray = cv2.cvtColor(fil_img, cv2.COLOR_BGR2GRAY)\n",
    "        edges = cv2.Canny(gray, threshold1=100, threshold2=200)\n",
    "        \n",
    "        # Step 4: Find contours\n",
    "        contours, _ = cv2.findContours(edges, cv2.RETR_EXTERNAL, cv2.CHAIN_APPROX_SIMPLE)\n",
    "        X, Y = [], []\n",
    "        ck = False\n",
    "        min_x, max_x = 500, 0\n",
    "\n",
    "        # Step 5: Process contours to calculate min_x and max_x\n",
    "        for contour in contours:\n",
    "            for point in contour:\n",
    "                x, y = point[0]\n",
    "                X.append(x)\n",
    "                Y.append(y)\n",
    "                min_x = min(min_x, x)\n",
    "                max_x = max(max_x, x)\n",
    "\n",
    "        # Step 6: Draw contours on the image\n",
    "        edge_detect = cv2.drawContours(fil_img.copy(), contours, -1, (0, 255, 0), 2)\n",
    "        \n",
    "        # Step 8: Check if contour spans a wide range\n",
    "        if max_x - min_x > 3:\n",
    "            ck = True\n",
    "\n",
    "        end_img = time.time()\n",
    "        duration = (end_img - start_img) * 1000  # Convert to milliseconds\n",
    "        cv2.imshow(\"Image\",edge_detect)\n",
    "        # Step 10: Write to CSV\n",
    "        writer.writerow([max_x-min_x,ck, f\"{duration:.3f} ms\"])\n",
    "        cv2.waitKey(0)\n",
    "        cv2.destroyAllWindows()\n",
    "\n",
    "    end = time.time()\n",
    "    print((end - start) * 1000, \"ms\")\n",
    "print(\"CSV file 'output.csv' created successfully.\")"
   ]
  },
  {
   "cell_type": "code",
   "execution_count": null,
   "metadata": {},
   "outputs": [],
   "source": []
  }
 ],
 "metadata": {
  "kernelspec": {
   "display_name": "flask_webcam",
   "language": "python",
   "name": "python3"
  },
  "language_info": {
   "codemirror_mode": {
    "name": "ipython",
    "version": 3
   },
   "file_extension": ".py",
   "mimetype": "text/x-python",
   "name": "python",
   "nbconvert_exporter": "python",
   "pygments_lexer": "ipython3",
   "version": "3.12.5"
  }
 },
 "nbformat": 4,
 "nbformat_minor": 2
}
