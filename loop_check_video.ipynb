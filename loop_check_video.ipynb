{
 "cells": [
  {
   "cell_type": "code",
   "execution_count": 1,
   "metadata": {},
   "outputs": [],
   "source": [
    "import cv2\n",
    "import time"
   ]
  },
  {
   "cell_type": "code",
   "execution_count": 2,
   "metadata": {},
   "outputs": [],
   "source": [
    "kernel_size=5\n",
    "std_dev=1.5"
   ]
  },
  {
   "cell_type": "code",
   "execution_count": 14,
   "metadata": {},
   "outputs": [],
   "source": [
    "time_list = []\n",
    "frame_count=1"
   ]
  },
  {
   "cell_type": "code",
   "execution_count": 15,
   "metadata": {},
   "outputs": [],
   "source": [
    "time_list.append([\"Frame\", \"Frame_Time\"])"
   ]
  },
  {
   "cell_type": "code",
   "execution_count": 20,
   "metadata": {},
   "outputs": [
    {
     "name": "stdout",
     "output_type": "stream",
     "text": [
      "End of video or failed\n",
      "10403.630256652832\n"
     ]
    }
   ],
   "source": [
    "cap = cv2.VideoCapture(\"Running_Sheets.mp4\")\n",
    "\n",
    "start = time.time()\n",
    "\n",
    "while True:\n",
    "    ret,frame=cap.read()\n",
    "    start_frame=time.time()\n",
    "    if not ret:\n",
    "        print(\"End of video or failed\")\n",
    "        break\n",
    "    \n",
    "    frame = cv2.resize(frame, (255,255))\n",
    "\n",
    "    kernel=cv2.getGaussianKernel(kernel_size,std_dev)\n",
    "    kernel=kernel * kernel.T\n",
    "    fil_img = cv2.filter2D(frame,-1,kernel)\n",
    "\n",
    "    gray= cv2.cvtColor(fil_img,cv2.COLOR_BGR2GRAY)\n",
    "    edges = cv2.Canny(gray,threshold1=100,threshold2=200)\n",
    "\n",
    "    contours,_ = cv2.findContours(edges,cv2.RETR_EXTERNAL,cv2.CHAIN_APPROX_SIMPLE)\n",
    "\n",
    "    edge_detect = cv2.drawContours(fil_img.copy(),contours,-1,(0,255,0),2)\n",
    "\n",
    "    cv2.imshow(\"Original Video\",frame)\n",
    "    cv2.imshow(\"Video Frame\",edge_detect)\n",
    "\n",
    "    end_frame=time.time()\n",
    "\n",
    "    time_list.append([frame_count, f\"{(end_frame - start_frame) * 1000:.3f} ms\"])\n",
    "    frame_count=frame_count+1\n",
    "\n",
    "    if cv2.waitKey(25) & 0xFF == ord('q'):\n",
    "        break\n",
    "\n",
    "cap.release()\n",
    "cv2.destroyAllWindows()\n",
    "\n",
    "end = time.time()\n",
    "\n",
    "duration = (end-start)*1000\n",
    "\n",
    "print(duration)"
   ]
  },
  {
   "cell_type": "code",
   "execution_count": 6,
   "metadata": {},
   "outputs": [],
   "source": [
    "time_list.append([f'Total_frame = {frame_count}',f'Total_Duration = {duration}'])"
   ]
  },
  {
   "cell_type": "code",
   "execution_count": 7,
   "metadata": {},
   "outputs": [
    {
     "name": "stdout",
     "output_type": "stream",
     "text": [
      "2D list written to Video_details.txt successfully.\n"
     ]
    }
   ],
   "source": [
    "# Writing the 2D list to a text file\n",
    "with open(\"Video_details.txt\", \"w\") as file:\n",
    "    for row in time_list:\n",
    "        # Convert each element to a string and join with a delimiter (e.g., space or comma)\n",
    "        file.write(\" \".join(map(str, row)) + \"\\n\")\n",
    "\n",
    "print(\"2D list written to Video_details.txt successfully.\")"
   ]
  },
  {
   "cell_type": "code",
   "execution_count": 8,
   "metadata": {},
   "outputs": [
    {
     "name": "stdout",
     "output_type": "stream",
     "text": [
      "[['Frame', 'Frame_Time'], [1, '107.877 ms'], [2, '9.844 ms'], [3, '7.955 ms'], [4, '7.900 ms'], [5, '7.992 ms'], [6, '9.155 ms'], [7, '5.109 ms'], [8, '8.540 ms'], [9, '9.531 ms'], [10, '8.757 ms'], [11, '7.008 ms'], [12, '7.153 ms'], [13, '9.230 ms'], [14, '5.475 ms'], [15, '6.996 ms'], [16, '10.914 ms'], [17, '9.957 ms'], [18, '7.864 ms'], [19, '10.251 ms'], [20, '8.115 ms'], [21, '7.387 ms'], [22, '7.470 ms'], [23, '7.483 ms'], [24, '10.276 ms'], [25, '7.362 ms'], [26, '8.313 ms'], [27, '7.058 ms'], [28, '5.611 ms'], [29, '11.191 ms'], [30, '10.307 ms'], [31, '7.268 ms'], [32, '6.546 ms'], [33, '8.947 ms'], [34, '2.401 ms'], [35, '6.546 ms'], [36, '6.109 ms'], [37, '4.729 ms'], [38, '7.975 ms'], [39, '4.637 ms'], [40, '8.443 ms'], [41, '8.503 ms'], [42, '7.034 ms'], [43, '5.982 ms'], [44, '7.538 ms'], [45, '9.261 ms'], [46, '3.516 ms'], [47, '7.442 ms'], [48, '8.058 ms'], [49, '4.489 ms'], [50, '8.029 ms'], [51, '7.907 ms'], [52, '8.634 ms'], [53, '4.711 ms'], [54, '4.239 ms'], [55, '9.930 ms'], [56, '7.041 ms'], [57, '5.998 ms'], [58, '7.480 ms'], [59, '5.612 ms'], [60, '6.013 ms'], [61, '10.445 ms'], [62, '9.747 ms'], [63, '11.144 ms'], [64, '10.505 ms'], [65, '10.600 ms'], [66, '8.189 ms'], [67, '10.116 ms'], [68, '8.263 ms'], [69, '8.209 ms'], [70, '9.343 ms'], [71, '10.427 ms'], [72, '10.325 ms'], [73, '8.685 ms'], [74, '9.835 ms'], [75, '8.319 ms'], [76, '8.549 ms'], [77, '8.930 ms'], [78, '8.555 ms'], [79, '9.558 ms'], [80, '8.902 ms'], [81, '7.928 ms'], [82, '9.168 ms'], [83, '8.417 ms'], [84, '8.793 ms'], [85, '4.412 ms'], [86, '11.762 ms'], [87, '7.667 ms'], [88, '12.020 ms'], [89, '9.702 ms'], [90, '8.857 ms'], [91, '9.698 ms'], [92, '9.134 ms'], [93, '7.895 ms'], [94, '6.347 ms'], [95, '8.516 ms'], [96, '10.059 ms'], [97, '8.623 ms'], [98, '8.238 ms'], [99, '6.575 ms'], [100, '7.021 ms'], [101, '6.668 ms'], [102, '7.245 ms'], [103, '9.506 ms'], [104, '6.990 ms'], [105, '5.692 ms'], [106, '7.015 ms'], [107, '6.505 ms'], [108, '6.894 ms'], [109, '6.733 ms'], [110, '6.344 ms'], [111, '10.495 ms'], [112, '7.764 ms'], [113, '9.907 ms'], [114, '5.020 ms'], [115, '5.939 ms'], [116, '9.549 ms'], [117, '8.997 ms'], [118, '9.542 ms'], [119, '6.398 ms'], [120, '7.812 ms'], [121, '5.702 ms'], [122, '6.415 ms'], [123, '4.454 ms'], [124, '7.573 ms'], [125, '10.937 ms'], [126, '6.466 ms'], [127, '10.548 ms'], [128, '3.625 ms'], [129, '7.020 ms'], [130, '5.766 ms'], [131, '5.564 ms'], [132, '8.096 ms'], [133, '5.342 ms'], [134, '7.023 ms'], [135, '7.474 ms'], [136, '5.245 ms'], [137, '4.628 ms'], [138, '6.733 ms'], [139, '7.753 ms'], [140, '0.000 ms'], [141, '0.000 ms'], [142, '6.597 ms'], [143, '7.089 ms'], [144, '6.995 ms'], [145, '8.579 ms'], [146, '7.657 ms'], [147, '6.109 ms'], [148, '6.787 ms'], [149, '7.837 ms'], [150, '7.331 ms'], [151, '7.217 ms'], [152, '5.345 ms'], [153, '5.799 ms'], [154, '5.061 ms'], [155, '7.140 ms'], [156, '8.411 ms'], [157, '7.982 ms'], [158, '7.138 ms'], [159, '5.666 ms'], [160, '6.564 ms'], [161, '9.013 ms'], [162, '8.658 ms'], [163, '6.617 ms'], [164, '4.869 ms'], [165, '6.993 ms'], [166, '8.429 ms'], [167, '8.650 ms'], [168, '6.109 ms'], [169, '5.527 ms'], [170, '5.535 ms'], [171, '5.386 ms'], [172, '5.556 ms'], [173, '7.105 ms'], [174, '6.416 ms'], [175, '5.488 ms'], [176, '6.031 ms'], [177, '6.008 ms'], [178, '5.816 ms'], [179, '5.384 ms'], [180, '4.744 ms'], [181, '6.032 ms'], [182, '5.551 ms'], [183, '6.787 ms'], [184, '6.771 ms'], [185, '5.167 ms'], [186, '6.025 ms'], [187, '5.529 ms'], [188, '6.063 ms'], [189, '6.232 ms'], [190, '5.872 ms'], [191, '7.670 ms'], [192, '5.112 ms'], [193, '9.862 ms'], [194, '10.250 ms'], [195, '5.309 ms'], [196, '0.082 ms'], [197, '6.127 ms'], [198, '3.142 ms'], [199, '9.198 ms'], [200, '5.826 ms'], [201, '4.739 ms'], [202, '1.558 ms'], [203, '7.160 ms'], [204, '5.643 ms'], [205, '7.402 ms'], [206, '6.402 ms'], [207, '7.454 ms'], [208, '0.000 ms'], [209, '7.504 ms'], [210, '5.996 ms'], [211, '7.245 ms'], [212, '6.359 ms'], [213, '8.591 ms'], [214, '5.941 ms'], [215, '9.283 ms'], [216, '5.511 ms'], [217, '2.068 ms'], [218, '9.275 ms'], [219, '8.172 ms'], [220, '9.221 ms'], [221, '9.886 ms'], [222, '6.137 ms'], [223, '4.522 ms'], [224, '6.385 ms'], [225, '6.383 ms'], [226, '6.024 ms'], [227, '5.144 ms'], [228, '8.459 ms'], [229, '7.272 ms'], [230, '8.622 ms'], [231, '0.423 ms'], [232, '7.635 ms'], [233, '7.254 ms'], [234, '3.197 ms'], [235, '2.975 ms'], [236, '5.543 ms'], [237, '7.151 ms'], [238, '4.173 ms'], [239, '6.124 ms'], [240, '7.576 ms'], [241, '7.008 ms'], [242, '1.669 ms'], [243, '6.595 ms'], [244, '5.287 ms'], [245, '9.421 ms'], [246, '7.374 ms'], [247, '2.766 ms'], [248, '9.156 ms'], [249, '5.680 ms'], [250, '5.763 ms'], [251, '7.571 ms'], [252, '5.595 ms'], [253, '6.602 ms'], [254, '6.910 ms'], [255, '3.225 ms'], [256, '5.125 ms'], [257, '7.279 ms'], [258, '4.154 ms'], [259, '6.696 ms'], [260, '5.023 ms'], [261, '3.750 ms'], [262, '5.019 ms'], [263, '5.224 ms'], [264, '3.986 ms'], [265, '5.765 ms'], [266, '5.990 ms'], [267, '3.132 ms'], [268, '9.778 ms'], [269, '6.310 ms'], [270, '6.647 ms'], [271, '7.055 ms'], [272, '5.350 ms'], [273, '6.956 ms'], [274, '5.384 ms'], [275, '6.406 ms'], [276, '4.447 ms'], [277, '4.522 ms'], [278, '4.602 ms'], [279, '2.029 ms'], [280, '7.682 ms'], [281, '4.513 ms'], [282, '6.175 ms'], [283, '6.503 ms'], [284, '5.335 ms'], [285, '10.466 ms'], [286, '6.526 ms'], [287, '9.576 ms'], [288, '7.147 ms'], [289, '0.000 ms'], [290, '4.052 ms'], [291, '6.587 ms'], [292, '5.335 ms'], [293, '5.607 ms'], [294, '5.665 ms'], [295, '0.000 ms'], [296, '6.983 ms'], [297, '3.521 ms'], [298, '5.928 ms'], [299, '6.303 ms'], [300, '1.696 ms'], [301, '0.000 ms'], [302, '5.767 ms'], [303, '1.638 ms'], [304, '7.716 ms'], [305, '6.114 ms'], [306, '6.259 ms'], [307, '6.129 ms'], [308, '4.442 ms'], [309, '5.721 ms'], [310, '5.018 ms'], [311, '6.637 ms'], [312, '7.674 ms'], [313, '5.403 ms'], [314, '4.698 ms'], [315, '7.473 ms'], [316, '8.316 ms'], [317, '5.512 ms'], [318, '4.284 ms'], [319, '1.668 ms'], [320, '3.192 ms'], [321, '3.941 ms'], [322, '5.630 ms'], [323, '4.120 ms'], [324, '3.280 ms'], [325, '4.851 ms'], [326, '5.571 ms'], ['Total_frame = 327', 'Total_Duration = 13733.027696609497']]\n"
     ]
    }
   ],
   "source": [
    "print(time_list)"
   ]
  }
 ],
 "metadata": {
  "kernelspec": {
   "display_name": "flask_webcam",
   "language": "python",
   "name": "python3"
  },
  "language_info": {
   "codemirror_mode": {
    "name": "ipython",
    "version": 3
   },
   "file_extension": ".py",
   "mimetype": "text/x-python",
   "name": "python",
   "nbconvert_exporter": "python",
   "pygments_lexer": "ipython3",
   "version": "3.12.5"
  }
 },
 "nbformat": 4,
 "nbformat_minor": 2
}
